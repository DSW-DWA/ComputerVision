{
 "cells": [
  {
   "cell_type": "code",
   "execution_count": 2,
   "id": "initial_id",
   "metadata": {
    "collapsed": true,
    "ExecuteTime": {
     "end_time": "2024-03-23T10:05:13.587798Z",
     "start_time": "2024-03-23T10:05:13.573397Z"
    }
   },
   "outputs": [],
   "source": [
    "from PIL import Image\n",
    "import numpy as np"
   ]
  },
  {
   "cell_type": "markdown",
   "source": [
    "# 1. Цветность"
   ],
   "metadata": {
    "collapsed": false
   },
   "id": "4875da82244f022c"
  },
  {
   "cell_type": "markdown",
   "source": [
    "## 1.1. логарифмическое преобразование изображения (с подбором коэффициента c таким образом, чтобы исходный диапазон яркости был отображен в диапазон палитры);"
   ],
   "metadata": {
    "collapsed": false
   },
   "id": "ffb8f904bacb220b"
  },
  {
   "cell_type": "markdown",
   "source": [
    "## 1.2 степенное преобразование изображения с произвольным значением гаммы и подбором коэффициента c по тому же принципу, как и в п. 1.1;"
   ],
   "metadata": {
    "collapsed": false
   },
   "id": "ccf4906886da4d06"
  },
  {
   "cell_type": "markdown",
   "source": [
    "## 1.3. бинарное преобразование с произвольным пороговым значением;"
   ],
   "metadata": {
    "collapsed": false
   },
   "id": "9a514ebdc6fc5590"
  },
  {
   "cell_type": "markdown",
   "source": [
    "# Сглаживание"
   ],
   "metadata": {
    "collapsed": false
   },
   "id": "548c5168cdbf6a59"
  },
  {
   "cell_type": "markdown",
   "source": [
    "# Резкость"
   ],
   "metadata": {
    "collapsed": false
   },
   "id": "20fae6e0d8cc48d3"
  }
 ],
 "metadata": {
  "kernelspec": {
   "display_name": "Python 3",
   "language": "python",
   "name": "python3"
  },
  "language_info": {
   "codemirror_mode": {
    "name": "ipython",
    "version": 2
   },
   "file_extension": ".py",
   "mimetype": "text/x-python",
   "name": "python",
   "nbconvert_exporter": "python",
   "pygments_lexer": "ipython2",
   "version": "2.7.6"
  }
 },
 "nbformat": 4,
 "nbformat_minor": 5
}
