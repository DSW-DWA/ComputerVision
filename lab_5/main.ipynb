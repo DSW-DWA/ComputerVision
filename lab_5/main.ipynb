{
 "cells": [
  {
   "metadata": {
    "ExecuteTime": {
     "end_time": "2024-04-30T08:35:02.392006Z",
     "start_time": "2024-04-30T08:35:01.662883Z"
    }
   },
   "cell_type": "code",
   "source": [
    "# Импорт необходимых библиотек\n",
    "import cv2\n",
    "import numpy as np\n",
    "from sklearn.cluster import KMeans, DBSCAN\n",
    "from sklearn.preprocessing import StandardScaler\n",
    "from skimage.color import rgb2lab"
   ],
   "id": "1ab0ad6fbdc51f2e",
   "outputs": [],
   "execution_count": 1
  },
  {
   "cell_type": "code",
   "id": "initial_id",
   "metadata": {
    "collapsed": true,
    "ExecuteTime": {
     "end_time": "2024-04-30T08:35:02.401936Z",
     "start_time": "2024-04-30T08:35:02.393006Z"
    }
   },
   "source": [
    "# Функция для сегментации методом k-средних\n",
    "def segment_kmeans(image, color_space='RGB', num_clusters=3):\n",
    "    if color_space == 'Lab':\n",
    "        image = cv2.cvtColor(image, cv2.COLOR_BGR2LAB)\n",
    "    pixel_values = image.reshape((-1, 3))\n",
    "    pixel_values = np.float32(pixel_values)\n",
    "    kmeans = KMeans(n_clusters=num_clusters, random_state=0)\n",
    "    labels = kmeans.fit_predict(pixel_values)\n",
    "    centers = np.uint8(kmeans.cluster_centers_)\n",
    "    segmented_image = centers[labels.flatten()]\n",
    "    segmented_image = segmented_image.reshape(image.shape)\n",
    "    return segmented_image\n",
    "\n",
    "# Функция для сегментации методом DBSCAN\n",
    "def segment_dbscan(image, color_space='RGB', eps=10, min_samples=50):\n",
    "    if color_space == 'Lab':\n",
    "        image = cv2.cvtColor(image, cv2.COLOR_BGR2LAB)\n",
    "    pixel_values = image.reshape((-1, 3))\n",
    "    pixel_values = np.float32(pixel_values)\n",
    "    pixel_values = StandardScaler().fit_transform(pixel_values)\n",
    "    dbscan = DBSCAN(eps=eps, min_samples=min_samples)\n",
    "    labels = dbscan.fit_predict(pixel_values)\n",
    "    labels_unique = np.unique(labels)\n",
    "    segmented_image = np.zeros((image.shape), dtype=np.uint8)\n",
    "    for label in labels_unique:\n",
    "        mask = labels.reshape(image.shape[:-1]) == label\n",
    "        segmented_image[mask] = np.median(image[mask], axis=0)\n",
    "    return segmented_image\n",
    "\n",
    "# Функция для сегментации путем выращивания семян\n",
    "def segment_seeds(image, num_seeds=5, intensity_difference=30):\n",
    "    seeds = np.zeros(image.shape[:2], np.int32)\n",
    "    for i in range(num_seeds):\n",
    "        x = np.random.randint(image.shape[1])\n",
    "        y = np.random.randint(image.shape[0])\n",
    "        seeds[y, x] = i+1\n",
    "    connectivity = 8\n",
    "    flags = connectivity | cv2.FLOODFILL_FIXED_RANGE | cv2.FLOODFILL_MASK_ONLY\n",
    "    mask = np.zeros((image.shape[0] + 2, image.shape[1] + 2), np.uint8)\n",
    "    for y in range(image.shape[0]):\n",
    "        for x in range(image.shape[1]):\n",
    "            if seeds[y, x]:\n",
    "                cv2.floodFill(image, mask, (x, y), None, (intensity_difference,)*3, (intensity_difference,)*3, flags)\n",
    "    return mask[1:-1, 1:-1]\n",
    "\n",
    "# Функция для сегментации методом разрастания областей\n",
    "def segment_region_growing(image, seed=None, intensity_threshold=10):\n",
    "    if seed is None:\n",
    "        seed = (0, 0)\n",
    "    segmented = np.zeros_like(image)\n",
    "    segmented[seed] = 255\n",
    "    current_points = [seed]\n",
    "    while current_points:\n",
    "        new_points = []\n",
    "        for point in current_points:\n",
    "            neighbors = [((point[0] + dx), (point[1] + dy)) for dx in range(-1, 2) for dy in range(-1, 2) if dx != 0 or dy != 0]\n",
    "            for nx, ny in neighbors:\n",
    "                if 0 <= nx < image.shape[0] and 0 <= ny < image.shape[1]:\n",
    "                    if segmented[nx, ny] == 0 and abs(int(image[nx, ny]) - int(image[point])) < intensity_threshold:\n",
    "                        segmented[nx, ny] = 255\n",
    "                        new_points.append((nx, ny))\n",
    "        current_points = new_points\n",
    "    return segmented\n",
    "\n",
    "# Функция для сегментации методом водораздела\n",
    "def segment_watershed(image):\n",
    "    gray = cv2.cvtColor(image, cv2.COLOR_BGR2GRAY)\n",
    "    ret, thresh = cv2.threshold(gray, 0, 255, cv2.THRESH_BINARY_INV + cv2.THRESH_OTSU)\n",
    "    kernel = np.ones((3,3), np.uint8)\n",
    "    opening = cv2.morphologyEx(thresh, cv2.MORPH_OPEN, kernel, iterations=2)\n",
    "    sure_bg = cv2.dilate(opening, kernel, iterations=3)\n",
    "    dist_transform = cv2.distanceTransform(opening, cv2.DIST_L2, 5)\n",
    "    ret, sure_fg = cv2.threshold(dist_transform, 0.7 * dist_transform.max(), 255, 0)\n",
    "    sure_fg = np.uint8(sure_fg)\n",
    "    unknown = cv2.subtract(sure_bg, sure_fg)\n",
    "    ret, markers = cv2.connectedComponents(sure_fg)\n",
    "    markers = markers + 1\n",
    "    markers[unknown==255] = 0\n",
    "    markers = cv2.watershed(image, markers)\n",
    "    image[markers == -1] = [255, 0, 0]\n",
    "    return image\n",
    "\n",
    "# Функция для обработки видео\n",
    "def process_video(video_path, output_path, segmentation_function):\n",
    "    cap = cv2.VideoCapture(video_path)\n",
    "    fourcc = cv2.VideoWriter_fourcc(*'XVID')\n",
    "    out = None\n",
    "    while cap.isOpened():\n",
    "        ret, frame = cap.read()\n",
    "        if not ret:\n",
    "            break\n",
    "        segmented_frame = segmentation_function(frame)\n",
    "        if out is None:\n",
    "            out = cv2.VideoWriter(output_path, fourcc, 20.0, (segmented_frame.shape[1], segmented_frame.shape[0]))\n",
    "        out.write(segmented_frame)\n",
    "    cap.release()\n",
    "    out.release()\n",
    "    cv2.destroyAllWindows()\n",
    "# Пример использования\n",
    "# process_video('path_to_input_video.avi', 'path_to_output_video.avi', segment_watershed)"
   ],
   "outputs": [],
   "execution_count": 2
  },
  {
   "metadata": {
    "ExecuteTime": {
     "end_time": "2024-04-30T08:35:02.407132Z",
     "start_time": "2024-04-30T08:35:02.402538Z"
    }
   },
   "cell_type": "code",
   "source": [
    "# import cv2\n",
    "# import matplotlib.pyplot as plt\n",
    "\n",
    "def load_and_show_segmentations(image_path):\n",
    "    # Загрузка изображения\n",
    "    image = cv2.imread(image_path)\n",
    "    image_rgb = cv2.cvtColor(image, cv2.COLOR_BGR2RGB)\n",
    "\n",
    "    # Применение методов сегментации\n",
    "    segmented_kmeans_rgb = segment_kmeans(image, 'RGB', 3)\n",
    "    segmented_kmeans_lab = segment_kmeans(image, 'Lab', 3)\n",
    "    segmented_dbscan_rgb = segment_dbscan(image, 'RGB', eps=0.5, min_samples=50)\n",
    "    segmented_dbscan_lab = segment_dbscan(image, 'Lab', eps=0.5, min_samples=50)\n",
    "    segmented_seeds = segment_seeds(image.copy(), num_seeds=10, intensity_difference=30)\n",
    "    segmented_region_growing = segment_region_growing(cv2.cvtColor(image, cv2.COLOR_BGR2GRAY))\n",
    "    segmented_watershed = segment_watershed(image.copy())\n",
    "\n",
    "    # Отображение результатов\n",
    "    fig, ax = plt.subplots(3, 3, figsize=(15, 10))\n",
    "    ax[0, 0].imshow(image_rgb)\n",
    "    ax[0, 0].set_title('Original Image')\n",
    "    ax[0, 0].axis('off')\n",
    "\n",
    "    ax[0, 1].imshow(segmented_kmeans_rgb)\n",
    "    ax[0, 1].set_title('K-Means RGB')\n",
    "    ax[0, 1].axis('off')\n",
    "\n",
    "    ax[0, 2].imshow(segmented_kmeans_lab)\n",
    "    ax[0, 2].set_title('K-Means Lab')\n",
    "    ax[0, 2].axis('off')\n",
    "\n",
    "    ax[1, 0].imshow(segmented_dbscan_rgb)\n",
    "    ax[1, 0].set_title('DBSCAN RGB')\n",
    "    ax[1, 0].axis('off')\n",
    "\n",
    "    ax[1, 1].imshow(segmented_dbscan_lab)\n",
    "    ax[1, 1].set_title('DBSCAN Lab')\n",
    "    ax[1, 1].axis('off')\n",
    "\n",
    "    ax[1, 2].imshow(segmented_seeds)\n",
    "    ax[1, 2].set_title('Seed Segmentation')\n",
    "    ax[1, 2].axis('off')\n",
    "\n",
    "    ax[2, 0].imshow(segmented_region_growing, cmap='gray')\n",
    "    ax[2, 0].set_title('Region Growing')\n",
    "    ax[2, 0].axis('off')\n",
    "\n",
    "    ax[2, 1].imshow(segmented_watershed)\n",
    "    ax[2, 1].set_title('Watershed')\n",
    "    ax[2, 1].axis('off')\n",
    "\n",
    "    plt.tight_layout()\n",
    "    plt.show()"
   ],
   "id": "9890b05378a5373e",
   "outputs": [],
   "execution_count": 3
  },
  {
   "metadata": {
    "ExecuteTime": {
     "end_time": "2024-04-30T08:35:02.626103Z",
     "start_time": "2024-04-30T08:35:02.408050Z"
    }
   },
   "cell_type": "code",
   "source": [
    "import cv2\n",
    "import matplotlib.pyplot as plt"
   ],
   "id": "e63563fb7bed0af6",
   "outputs": [],
   "execution_count": 4
  },
  {
   "metadata": {
    "ExecuteTime": {
     "end_time": "2024-04-30T08:35:02.635291Z",
     "start_time": "2024-04-30T08:35:02.627634Z"
    }
   },
   "cell_type": "code",
   "source": [
    "image = cv2.imread('../assets/1000_F_532804846_aW0Agk6JM4KOiz4cZFTw7ALx7z8bsOUQ.jpg')\n",
    "image_rgb = cv2.cvtColor(image, cv2.COLOR_BGR2RGB)"
   ],
   "id": "5e34d32c54724606",
   "outputs": [],
   "execution_count": 5
  },
  {
   "metadata": {
    "ExecuteTime": {
     "end_time": "2024-04-30T08:35:03.131467Z",
     "start_time": "2024-04-30T08:35:02.636326Z"
    }
   },
   "cell_type": "code",
   "source": "segmented_kmeans_lab = segment_kmeans(image, 'Lab', 3)",
   "id": "94a124e1f4134425",
   "outputs": [],
   "execution_count": 6
  },
  {
   "metadata": {
    "ExecuteTime": {
     "end_time": "2024-04-30T08:35:03.324604Z",
     "start_time": "2024-04-30T08:35:03.133856Z"
    }
   },
   "cell_type": "code",
   "source": "segmented_kmeans_rgb = segment_kmeans(image, 'RGB', 3)",
   "id": "909de8df24628693",
   "outputs": [],
   "execution_count": 7
  },
  {
   "metadata": {
    "jupyter": {
     "is_executing": true
    },
    "ExecuteTime": {
     "start_time": "2024-04-30T08:35:03.325430Z"
    }
   },
   "cell_type": "code",
   "source": "segmented_dbscan_rgb = segment_dbscan(image, 'RGB', eps=0.5, min_samples=50)",
   "id": "e4b87d31b74ab2a1",
   "outputs": [],
   "execution_count": null
  },
  {
   "metadata": {
    "jupyter": {
     "is_executing": true
    }
   },
   "cell_type": "code",
   "source": "segmented_dbscan_lab = segment_dbscan(image, 'Lab', eps=0.5, min_samples=50)",
   "id": "22fdeafe0c36a075",
   "outputs": [],
   "execution_count": null
  },
  {
   "metadata": {
    "jupyter": {
     "is_executing": true
    }
   },
   "cell_type": "code",
   "source": "segmented_seeds = segment_seeds(image.copy(), num_seeds=10, intensity_difference=30)",
   "id": "aa564c1601efc002",
   "outputs": [],
   "execution_count": null
  },
  {
   "metadata": {
    "jupyter": {
     "is_executing": true
    }
   },
   "cell_type": "code",
   "source": [
    "segmented_region_growing = segment_region_growing(cv2.cvtColor(image, cv2.COLOR_BGR2GRAY))\n",
    "segmented_watershed = segment_watershed(image.copy())"
   ],
   "id": "71bac421041ac375",
   "outputs": [],
   "execution_count": null
  },
  {
   "metadata": {
    "jupyter": {
     "is_executing": true
    }
   },
   "cell_type": "code",
   "source": "",
   "id": "9d983bc730ddc38f",
   "outputs": [],
   "execution_count": null
  }
 ],
 "metadata": {
  "kernelspec": {
   "display_name": "Python 3",
   "language": "python",
   "name": "python3"
  },
  "language_info": {
   "codemirror_mode": {
    "name": "ipython",
    "version": 2
   },
   "file_extension": ".py",
   "mimetype": "text/x-python",
   "name": "python",
   "nbconvert_exporter": "python",
   "pygments_lexer": "ipython2",
   "version": "2.7.6"
  }
 },
 "nbformat": 4,
 "nbformat_minor": 5
}
